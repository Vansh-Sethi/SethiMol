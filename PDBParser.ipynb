{
 "cells": [
  {
   "cell_type": "code",
   "execution_count": 15,
   "metadata": {},
   "outputs": [],
   "source": [
    "class Atom:\n",
    "    position = [0,0,0]\n",
    "    \n",
    "    def __init__(self, element, posX, posY, posZ, nomenclature = \"backbone\"):\n",
    "        self.element = element\n",
    "        self.position[0] = posX\n",
    "        self.position[1] = posY\n",
    "        self.position[2] = posZ\n",
    "        self.nomenclature = nomenclature\n",
    "\n",
    "class Amino_Acid:\n",
    "    def __init__(self, aminoacid, backbone, sidechain):\n",
    "        self.aminoacid = aminoacid\n",
    "        \n",
    "        self.sidechain = sidechain\n"
   ]
  },
  {
   "cell_type": "code",
   "execution_count": 16,
   "metadata": {},
   "outputs": [],
   "source": [
    "carbon = Atom('C', 24, 32, 92)\n"
   ]
  },
  {
   "cell_type": "code",
   "execution_count": null,
   "metadata": {},
   "outputs": [],
   "source": []
  },
  {
   "cell_type": "code",
   "execution_count": null,
   "metadata": {},
   "outputs": [],
   "source": []
  }
 ],
 "metadata": {
  "kernelspec": {
   "display_name": "Python 3.7.9 64-bit",
   "language": "python",
   "name": "python3"
  },
  "language_info": {
   "codemirror_mode": {
    "name": "ipython",
    "version": 3
   },
   "file_extension": ".py",
   "mimetype": "text/x-python",
   "name": "python",
   "nbconvert_exporter": "python",
   "pygments_lexer": "ipython3",
   "version": "3.7.9"
  },
  "orig_nbformat": 4,
  "vscode": {
   "interpreter": {
    "hash": "5109d816b82be14675a6b11f8e0f0d2e80f029176ed3710d54e125caa8520dfd"
   }
  }
 },
 "nbformat": 4,
 "nbformat_minor": 2
}
